{
  "cells": [
    {
      "cell_type": "markdown",
      "metadata": {
        "id": "view-in-github",
        "colab_type": "text"
      },
      "source": [
        "<a href=\"https://colab.research.google.com/github/Ramya1410/Netflix-like-movie-recommender-system/blob/main/movie_recommendation_system_collaborative_based.ipynb\" target=\"_parent\"><img src=\"https://colab.research.google.com/assets/colab-badge.svg\" alt=\"Open In Colab\"/></a>"
      ]
    },
    {
      "cell_type": "markdown",
      "metadata": {
        "id": "VElOlPHJYBDD"
      },
      "source": [
        "## Importing libraries"
      ]
    },
    {
      "cell_type": "code",
      "execution_count": null,
      "metadata": {
        "id": "P1fqfq7JYBDF"
      },
      "outputs": [],
      "source": [
        "import pandas as pd\n",
        "import numpy as np\n",
        "import matplotlib.pyplot as plt\n",
        "from sklearn.feature_extraction.text import TfidfVectorizer\n",
        "from sklearn.metrics.pairwise import linear_kernel"
      ]
    },
    {
      "cell_type": "markdown",
      "metadata": {
        "id": "S5wQvpS7YBDH"
      },
      "source": [
        "## Loading data files"
      ]
    },
    {
      "cell_type": "code",
      "execution_count": null,
      "metadata": {
        "id": "rN92AZNlYBDH"
      },
      "outputs": [],
      "source": [
        "movies = pd.read_csv(\"movies.csv\")\n",
        "ratings = pd.read_csv(\"ratings.csv\")"
      ]
    },
    {
      "cell_type": "code",
      "execution_count": null,
      "metadata": {
        "id": "8JEbQwdAYBDH",
        "outputId": "83698163-92c7-46f9-d4a3-3e9425d7a4dc"
      },
      "outputs": [
        {
          "name": "stdout",
          "output_type": "stream",
          "text": [
            "<class 'pandas.core.frame.DataFrame'>\n",
            "RangeIndex: 10329 entries, 0 to 10328\n",
            "Data columns (total 3 columns):\n",
            " #   Column   Non-Null Count  Dtype \n",
            "---  ------   --------------  ----- \n",
            " 0   movieId  10329 non-null  int64 \n",
            " 1   title    10329 non-null  object\n",
            " 2   genres   10329 non-null  object\n",
            "dtypes: int64(1), object(2)\n",
            "memory usage: 242.2+ KB\n"
          ]
        }
      ],
      "source": [
        "movies.info()"
      ]
    },
    {
      "cell_type": "code",
      "execution_count": null,
      "metadata": {
        "id": "e1SfExQwYBDI",
        "outputId": "c630bd94-b729-4866-eb5f-15f9d8b5eaef"
      },
      "outputs": [
        {
          "name": "stdout",
          "output_type": "stream",
          "text": [
            "<class 'pandas.core.frame.DataFrame'>\n",
            "RangeIndex: 105339 entries, 0 to 105338\n",
            "Data columns (total 4 columns):\n",
            " #   Column     Non-Null Count   Dtype  \n",
            "---  ------     --------------   -----  \n",
            " 0   userId     105339 non-null  int64  \n",
            " 1   movieId    105339 non-null  int64  \n",
            " 2   rating     105339 non-null  float64\n",
            " 3   timestamp  105339 non-null  int64  \n",
            "dtypes: float64(1), int64(3)\n",
            "memory usage: 3.2 MB\n"
          ]
        }
      ],
      "source": [
        "ratings.info()"
      ]
    },
    {
      "cell_type": "code",
      "execution_count": null,
      "metadata": {
        "id": "MG9r52oUYBDI",
        "outputId": "5df79cb5-2ad9-4183-8892-c15457947887"
      },
      "outputs": [
        {
          "data": {
            "text/plain": [
              "(10329, 3)"
            ]
          },
          "execution_count": 5,
          "metadata": {},
          "output_type": "execute_result"
        }
      ],
      "source": [
        "movies.shape"
      ]
    },
    {
      "cell_type": "code",
      "execution_count": null,
      "metadata": {
        "id": "OqewxVThYBDJ",
        "outputId": "3aa83c3c-5390-4fdc-8995-ae23a96b639b"
      },
      "outputs": [
        {
          "data": {
            "text/plain": [
              "(105339, 4)"
            ]
          },
          "execution_count": 6,
          "metadata": {},
          "output_type": "execute_result"
        }
      ],
      "source": [
        "ratings.shape"
      ]
    },
    {
      "cell_type": "code",
      "execution_count": null,
      "metadata": {
        "id": "IT8ybAOQYBDJ",
        "outputId": "56c2231c-3a9f-4d52-e566-b121a5a67fb9"
      },
      "outputs": [
        {
          "data": {
            "text/html": [
              "<div>\n",
              "<style scoped>\n",
              "    .dataframe tbody tr th:only-of-type {\n",
              "        vertical-align: middle;\n",
              "    }\n",
              "\n",
              "    .dataframe tbody tr th {\n",
              "        vertical-align: top;\n",
              "    }\n",
              "\n",
              "    .dataframe thead th {\n",
              "        text-align: right;\n",
              "    }\n",
              "</style>\n",
              "<table border=\"1\" class=\"dataframe\">\n",
              "  <thead>\n",
              "    <tr style=\"text-align: right;\">\n",
              "      <th></th>\n",
              "      <th>movieId</th>\n",
              "    </tr>\n",
              "  </thead>\n",
              "  <tbody>\n",
              "    <tr>\n",
              "      <th>count</th>\n",
              "      <td>10329.000000</td>\n",
              "    </tr>\n",
              "    <tr>\n",
              "      <th>mean</th>\n",
              "      <td>31924.282893</td>\n",
              "    </tr>\n",
              "    <tr>\n",
              "      <th>std</th>\n",
              "      <td>37734.741149</td>\n",
              "    </tr>\n",
              "    <tr>\n",
              "      <th>min</th>\n",
              "      <td>1.000000</td>\n",
              "    </tr>\n",
              "    <tr>\n",
              "      <th>25%</th>\n",
              "      <td>3240.000000</td>\n",
              "    </tr>\n",
              "    <tr>\n",
              "      <th>50%</th>\n",
              "      <td>7088.000000</td>\n",
              "    </tr>\n",
              "    <tr>\n",
              "      <th>75%</th>\n",
              "      <td>59900.000000</td>\n",
              "    </tr>\n",
              "    <tr>\n",
              "      <th>max</th>\n",
              "      <td>149532.000000</td>\n",
              "    </tr>\n",
              "  </tbody>\n",
              "</table>\n",
              "</div>"
            ],
            "text/plain": [
              "             movieId\n",
              "count   10329.000000\n",
              "mean    31924.282893\n",
              "std     37734.741149\n",
              "min         1.000000\n",
              "25%      3240.000000\n",
              "50%      7088.000000\n",
              "75%     59900.000000\n",
              "max    149532.000000"
            ]
          },
          "execution_count": 7,
          "metadata": {},
          "output_type": "execute_result"
        }
      ],
      "source": [
        "movies.describe()"
      ]
    },
    {
      "cell_type": "code",
      "execution_count": null,
      "metadata": {
        "id": "5HCF48YeYBDJ",
        "outputId": "2d52b3a8-5d5b-4f8f-cec7-3673c3fbacd9"
      },
      "outputs": [
        {
          "data": {
            "text/html": [
              "<div>\n",
              "<style scoped>\n",
              "    .dataframe tbody tr th:only-of-type {\n",
              "        vertical-align: middle;\n",
              "    }\n",
              "\n",
              "    .dataframe tbody tr th {\n",
              "        vertical-align: top;\n",
              "    }\n",
              "\n",
              "    .dataframe thead th {\n",
              "        text-align: right;\n",
              "    }\n",
              "</style>\n",
              "<table border=\"1\" class=\"dataframe\">\n",
              "  <thead>\n",
              "    <tr style=\"text-align: right;\">\n",
              "      <th></th>\n",
              "      <th>userId</th>\n",
              "      <th>movieId</th>\n",
              "      <th>rating</th>\n",
              "      <th>timestamp</th>\n",
              "    </tr>\n",
              "  </thead>\n",
              "  <tbody>\n",
              "    <tr>\n",
              "      <th>count</th>\n",
              "      <td>105339.000000</td>\n",
              "      <td>105339.000000</td>\n",
              "      <td>105339.000000</td>\n",
              "      <td>1.053390e+05</td>\n",
              "    </tr>\n",
              "    <tr>\n",
              "      <th>mean</th>\n",
              "      <td>364.924539</td>\n",
              "      <td>13381.312477</td>\n",
              "      <td>3.516850</td>\n",
              "      <td>1.130424e+09</td>\n",
              "    </tr>\n",
              "    <tr>\n",
              "      <th>std</th>\n",
              "      <td>197.486905</td>\n",
              "      <td>26170.456869</td>\n",
              "      <td>1.044872</td>\n",
              "      <td>1.802660e+08</td>\n",
              "    </tr>\n",
              "    <tr>\n",
              "      <th>min</th>\n",
              "      <td>1.000000</td>\n",
              "      <td>1.000000</td>\n",
              "      <td>0.500000</td>\n",
              "      <td>8.285650e+08</td>\n",
              "    </tr>\n",
              "    <tr>\n",
              "      <th>25%</th>\n",
              "      <td>192.000000</td>\n",
              "      <td>1073.000000</td>\n",
              "      <td>3.000000</td>\n",
              "      <td>9.711008e+08</td>\n",
              "    </tr>\n",
              "    <tr>\n",
              "      <th>50%</th>\n",
              "      <td>383.000000</td>\n",
              "      <td>2497.000000</td>\n",
              "      <td>3.500000</td>\n",
              "      <td>1.115154e+09</td>\n",
              "    </tr>\n",
              "    <tr>\n",
              "      <th>75%</th>\n",
              "      <td>557.000000</td>\n",
              "      <td>5991.000000</td>\n",
              "      <td>4.000000</td>\n",
              "      <td>1.275496e+09</td>\n",
              "    </tr>\n",
              "    <tr>\n",
              "      <th>max</th>\n",
              "      <td>668.000000</td>\n",
              "      <td>149532.000000</td>\n",
              "      <td>5.000000</td>\n",
              "      <td>1.452405e+09</td>\n",
              "    </tr>\n",
              "  </tbody>\n",
              "</table>\n",
              "</div>"
            ],
            "text/plain": [
              "              userId        movieId         rating     timestamp\n",
              "count  105339.000000  105339.000000  105339.000000  1.053390e+05\n",
              "mean      364.924539   13381.312477       3.516850  1.130424e+09\n",
              "std       197.486905   26170.456869       1.044872  1.802660e+08\n",
              "min         1.000000       1.000000       0.500000  8.285650e+08\n",
              "25%       192.000000    1073.000000       3.000000  9.711008e+08\n",
              "50%       383.000000    2497.000000       3.500000  1.115154e+09\n",
              "75%       557.000000    5991.000000       4.000000  1.275496e+09\n",
              "max       668.000000  149532.000000       5.000000  1.452405e+09"
            ]
          },
          "execution_count": 8,
          "metadata": {},
          "output_type": "execute_result"
        }
      ],
      "source": [
        "ratings.describe()"
      ]
    },
    {
      "cell_type": "markdown",
      "metadata": {
        "id": "8PLnL46RYBDK"
      },
      "source": [
        " From the above table we can conclue that\n",
        " \n",
        " - The average rating is 3.5 and minimum and maximum rating is 0.5 and 5 respectively. \n",
        " - There are 668 user who has given their ratings for 149532 movies.\n"
      ]
    },
    {
      "cell_type": "code",
      "execution_count": null,
      "metadata": {
        "id": "m8W0LG2ZYBDK"
      },
      "outputs": [],
      "source": [
        "genres=[]\n",
        "for genre in movies.genres:\n",
        "    \n",
        "    x=genre.split('|')\n",
        "    for i in x:\n",
        "         if i not in genres:\n",
        "            genres.append(str(i))\n",
        "genres=str(genres)    \n",
        "movie_title=[]\n",
        "for title in movies.title:\n",
        "    movie_title.append(title[0:-7])\n",
        "movie_title=str(movie_title)    "
      ]
    },
    {
      "cell_type": "code",
      "execution_count": null,
      "metadata": {
        "id": "7JOc8ioKYBDK",
        "outputId": "8cad27e7-bed4-4a3d-f469-0b5bfa1287d4"
      },
      "outputs": [
        {
          "data": {
            "text/html": [
              "<div>\n",
              "<style scoped>\n",
              "    .dataframe tbody tr th:only-of-type {\n",
              "        vertical-align: middle;\n",
              "    }\n",
              "\n",
              "    .dataframe tbody tr th {\n",
              "        vertical-align: top;\n",
              "    }\n",
              "\n",
              "    .dataframe thead th {\n",
              "        text-align: right;\n",
              "    }\n",
              "</style>\n",
              "<table border=\"1\" class=\"dataframe\">\n",
              "  <thead>\n",
              "    <tr style=\"text-align: right;\">\n",
              "      <th></th>\n",
              "      <th>userId</th>\n",
              "      <th>movieId</th>\n",
              "      <th>rating</th>\n",
              "      <th>timestamp</th>\n",
              "      <th>title</th>\n",
              "      <th>genres</th>\n",
              "    </tr>\n",
              "  </thead>\n",
              "  <tbody>\n",
              "    <tr>\n",
              "      <th>0</th>\n",
              "      <td>1</td>\n",
              "      <td>16</td>\n",
              "      <td>4.0</td>\n",
              "      <td>1217897793</td>\n",
              "      <td>Casino (1995)</td>\n",
              "      <td>Crime|Drama</td>\n",
              "    </tr>\n",
              "    <tr>\n",
              "      <th>1</th>\n",
              "      <td>1</td>\n",
              "      <td>24</td>\n",
              "      <td>1.5</td>\n",
              "      <td>1217895807</td>\n",
              "      <td>Powder (1995)</td>\n",
              "      <td>Drama|Sci-Fi</td>\n",
              "    </tr>\n",
              "    <tr>\n",
              "      <th>2</th>\n",
              "      <td>1</td>\n",
              "      <td>32</td>\n",
              "      <td>4.0</td>\n",
              "      <td>1217896246</td>\n",
              "      <td>Twelve Monkeys (a.k.a. 12 Monkeys) (1995)</td>\n",
              "      <td>Mystery|Sci-Fi|Thriller</td>\n",
              "    </tr>\n",
              "    <tr>\n",
              "      <th>3</th>\n",
              "      <td>1</td>\n",
              "      <td>47</td>\n",
              "      <td>4.0</td>\n",
              "      <td>1217896556</td>\n",
              "      <td>Seven (a.k.a. Se7en) (1995)</td>\n",
              "      <td>Mystery|Thriller</td>\n",
              "    </tr>\n",
              "    <tr>\n",
              "      <th>4</th>\n",
              "      <td>1</td>\n",
              "      <td>50</td>\n",
              "      <td>4.0</td>\n",
              "      <td>1217896523</td>\n",
              "      <td>Usual Suspects, The (1995)</td>\n",
              "      <td>Crime|Mystery|Thriller</td>\n",
              "    </tr>\n",
              "  </tbody>\n",
              "</table>\n",
              "</div>"
            ],
            "text/plain": [
              "   userId  movieId  rating   timestamp  \\\n",
              "0       1       16     4.0  1217897793   \n",
              "1       1       24     1.5  1217895807   \n",
              "2       1       32     4.0  1217896246   \n",
              "3       1       47     4.0  1217896556   \n",
              "4       1       50     4.0  1217896523   \n",
              "\n",
              "                                       title                   genres  \n",
              "0                              Casino (1995)              Crime|Drama  \n",
              "1                              Powder (1995)             Drama|Sci-Fi  \n",
              "2  Twelve Monkeys (a.k.a. 12 Monkeys) (1995)  Mystery|Sci-Fi|Thriller  \n",
              "3                Seven (a.k.a. Se7en) (1995)         Mystery|Thriller  \n",
              "4                 Usual Suspects, The (1995)   Crime|Mystery|Thriller  "
            ]
          },
          "execution_count": 10,
          "metadata": {},
          "output_type": "execute_result"
        }
      ],
      "source": [
        "df=pd.merge(ratings,movies, how='left',on='movieId')\n",
        "df.head()"
      ]
    },
    {
      "cell_type": "code",
      "execution_count": null,
      "metadata": {
        "id": "YlN0w_2LYBDL",
        "outputId": "b71201cc-4d9d-408e-e610-bcd168c8e8eb"
      },
      "outputs": [
        {
          "data": {
            "text/html": [
              "<div>\n",
              "<style scoped>\n",
              "    .dataframe tbody tr th:only-of-type {\n",
              "        vertical-align: middle;\n",
              "    }\n",
              "\n",
              "    .dataframe tbody tr th {\n",
              "        vertical-align: top;\n",
              "    }\n",
              "\n",
              "    .dataframe thead th {\n",
              "        text-align: right;\n",
              "    }\n",
              "</style>\n",
              "<table border=\"1\" class=\"dataframe\">\n",
              "  <thead>\n",
              "    <tr style=\"text-align: right;\">\n",
              "      <th></th>\n",
              "      <th>title</th>\n",
              "      <th>TotalRatingCount</th>\n",
              "    </tr>\n",
              "  </thead>\n",
              "  <tbody>\n",
              "    <tr>\n",
              "      <th>0</th>\n",
              "      <td>'71 (2014)</td>\n",
              "      <td>1</td>\n",
              "    </tr>\n",
              "    <tr>\n",
              "      <th>1</th>\n",
              "      <td>'Hellboy': The Seeds of Creation (2004)</td>\n",
              "      <td>1</td>\n",
              "    </tr>\n",
              "    <tr>\n",
              "      <th>2</th>\n",
              "      <td>'Round Midnight (1986)</td>\n",
              "      <td>1</td>\n",
              "    </tr>\n",
              "    <tr>\n",
              "      <th>3</th>\n",
              "      <td>'Til There Was You (1997)</td>\n",
              "      <td>3</td>\n",
              "    </tr>\n",
              "    <tr>\n",
              "      <th>4</th>\n",
              "      <td>'burbs, The (1989)</td>\n",
              "      <td>20</td>\n",
              "    </tr>\n",
              "    <tr>\n",
              "      <th>5</th>\n",
              "      <td>'night Mother (1986)</td>\n",
              "      <td>1</td>\n",
              "    </tr>\n",
              "    <tr>\n",
              "      <th>6</th>\n",
              "      <td>(500) Days of Summer (2009)</td>\n",
              "      <td>37</td>\n",
              "    </tr>\n",
              "    <tr>\n",
              "      <th>7</th>\n",
              "      <td>*batteries not included (1987)</td>\n",
              "      <td>11</td>\n",
              "    </tr>\n",
              "    <tr>\n",
              "      <th>8</th>\n",
              "      <td>...And Justice for All (1979)</td>\n",
              "      <td>10</td>\n",
              "    </tr>\n",
              "    <tr>\n",
              "      <th>9</th>\n",
              "      <td>10 (1979)</td>\n",
              "      <td>3</td>\n",
              "    </tr>\n",
              "  </tbody>\n",
              "</table>\n",
              "</div>"
            ],
            "text/plain": [
              "                                     title  TotalRatingCount\n",
              "0                               '71 (2014)                 1\n",
              "1  'Hellboy': The Seeds of Creation (2004)                 1\n",
              "2                   'Round Midnight (1986)                 1\n",
              "3                'Til There Was You (1997)                 3\n",
              "4                       'burbs, The (1989)                20\n",
              "5                     'night Mother (1986)                 1\n",
              "6              (500) Days of Summer (2009)                37\n",
              "7           *batteries not included (1987)                11\n",
              "8            ...And Justice for All (1979)                10\n",
              "9                                10 (1979)                 3"
            ]
          },
          "execution_count": 12,
          "metadata": {},
          "output_type": "execute_result"
        }
      ],
      "source": [
        "ratings = df.dropna(axis=0, subset = ['title'])    # Drop all 'NaN' values\n",
        "movie_rating_Count = (ratings.groupby(by=['title'])['rating'].count().reset_index().\n",
        "                     rename(columns = {'rating':'TotalRatingCount'})[['title', 'TotalRatingCount']])\n",
        "\n",
        "movie_rating_Count.head(10)"
      ]
    },
    {
      "cell_type": "code",
      "execution_count": null,
      "metadata": {
        "id": "bFDiBL2-YBDL",
        "outputId": "e4635c62-5df4-4cf8-be94-6b66fc2c38d0"
      },
      "outputs": [
        {
          "data": {
            "text/html": [
              "<div>\n",
              "<style scoped>\n",
              "    .dataframe tbody tr th:only-of-type {\n",
              "        vertical-align: middle;\n",
              "    }\n",
              "\n",
              "    .dataframe tbody tr th {\n",
              "        vertical-align: top;\n",
              "    }\n",
              "\n",
              "    .dataframe thead th {\n",
              "        text-align: right;\n",
              "    }\n",
              "</style>\n",
              "<table border=\"1\" class=\"dataframe\">\n",
              "  <thead>\n",
              "    <tr style=\"text-align: right;\">\n",
              "      <th></th>\n",
              "      <th>TotalRatingCount</th>\n",
              "    </tr>\n",
              "  </thead>\n",
              "  <tbody>\n",
              "    <tr>\n",
              "      <th>count</th>\n",
              "      <td>10323.000000</td>\n",
              "    </tr>\n",
              "    <tr>\n",
              "      <th>mean</th>\n",
              "      <td>10.204301</td>\n",
              "    </tr>\n",
              "    <tr>\n",
              "      <th>std</th>\n",
              "      <td>22.834557</td>\n",
              "    </tr>\n",
              "    <tr>\n",
              "      <th>min</th>\n",
              "      <td>1.000000</td>\n",
              "    </tr>\n",
              "    <tr>\n",
              "      <th>25%</th>\n",
              "      <td>1.000000</td>\n",
              "    </tr>\n",
              "    <tr>\n",
              "      <th>50%</th>\n",
              "      <td>3.000000</td>\n",
              "    </tr>\n",
              "    <tr>\n",
              "      <th>75%</th>\n",
              "      <td>8.000000</td>\n",
              "    </tr>\n",
              "    <tr>\n",
              "      <th>max</th>\n",
              "      <td>325.000000</td>\n",
              "    </tr>\n",
              "  </tbody>\n",
              "</table>\n",
              "</div>"
            ],
            "text/plain": [
              "       TotalRatingCount\n",
              "count      10323.000000\n",
              "mean          10.204301\n",
              "std           22.834557\n",
              "min            1.000000\n",
              "25%            1.000000\n",
              "50%            3.000000\n",
              "75%            8.000000\n",
              "max          325.000000"
            ]
          },
          "execution_count": 13,
          "metadata": {},
          "output_type": "execute_result"
        }
      ],
      "source": [
        "movie_rating_Count.describe()"
      ]
    },
    {
      "cell_type": "code",
      "execution_count": null,
      "metadata": {
        "id": "ZoE6HWAbYBDL",
        "outputId": "2848770f-3239-4399-a93a-94b0d7b4c898"
      },
      "outputs": [
        {
          "data": {
            "text/html": [
              "<div>\n",
              "<style scoped>\n",
              "    .dataframe tbody tr th:only-of-type {\n",
              "        vertical-align: middle;\n",
              "    }\n",
              "\n",
              "    .dataframe tbody tr th {\n",
              "        vertical-align: top;\n",
              "    }\n",
              "\n",
              "    .dataframe thead th {\n",
              "        text-align: right;\n",
              "    }\n",
              "</style>\n",
              "<table border=\"1\" class=\"dataframe\">\n",
              "  <thead>\n",
              "    <tr style=\"text-align: right;\">\n",
              "      <th></th>\n",
              "      <th>userId</th>\n",
              "      <th>movieId</th>\n",
              "      <th>rating</th>\n",
              "      <th>timestamp</th>\n",
              "      <th>title</th>\n",
              "      <th>genres</th>\n",
              "      <th>TotalRatingCount</th>\n",
              "    </tr>\n",
              "  </thead>\n",
              "  <tbody>\n",
              "    <tr>\n",
              "      <th>0</th>\n",
              "      <td>1</td>\n",
              "      <td>16</td>\n",
              "      <td>4.0</td>\n",
              "      <td>1217897793</td>\n",
              "      <td>Casino (1995)</td>\n",
              "      <td>Crime|Drama</td>\n",
              "      <td>84</td>\n",
              "    </tr>\n",
              "    <tr>\n",
              "      <th>1</th>\n",
              "      <td>1</td>\n",
              "      <td>24</td>\n",
              "      <td>1.5</td>\n",
              "      <td>1217895807</td>\n",
              "      <td>Powder (1995)</td>\n",
              "      <td>Drama|Sci-Fi</td>\n",
              "      <td>38</td>\n",
              "    </tr>\n",
              "    <tr>\n",
              "      <th>2</th>\n",
              "      <td>1</td>\n",
              "      <td>32</td>\n",
              "      <td>4.0</td>\n",
              "      <td>1217896246</td>\n",
              "      <td>Twelve Monkeys (a.k.a. 12 Monkeys) (1995)</td>\n",
              "      <td>Mystery|Sci-Fi|Thriller</td>\n",
              "      <td>207</td>\n",
              "    </tr>\n",
              "    <tr>\n",
              "      <th>3</th>\n",
              "      <td>1</td>\n",
              "      <td>47</td>\n",
              "      <td>4.0</td>\n",
              "      <td>1217896556</td>\n",
              "      <td>Seven (a.k.a. Se7en) (1995)</td>\n",
              "      <td>Mystery|Thriller</td>\n",
              "      <td>196</td>\n",
              "    </tr>\n",
              "    <tr>\n",
              "      <th>4</th>\n",
              "      <td>1</td>\n",
              "      <td>50</td>\n",
              "      <td>4.0</td>\n",
              "      <td>1217896523</td>\n",
              "      <td>Usual Suspects, The (1995)</td>\n",
              "      <td>Crime|Mystery|Thriller</td>\n",
              "      <td>228</td>\n",
              "    </tr>\n",
              "  </tbody>\n",
              "</table>\n",
              "</div>"
            ],
            "text/plain": [
              "   userId  movieId  rating   timestamp  \\\n",
              "0       1       16     4.0  1217897793   \n",
              "1       1       24     1.5  1217895807   \n",
              "2       1       32     4.0  1217896246   \n",
              "3       1       47     4.0  1217896556   \n",
              "4       1       50     4.0  1217896523   \n",
              "\n",
              "                                       title                   genres  \\\n",
              "0                              Casino (1995)              Crime|Drama   \n",
              "1                              Powder (1995)             Drama|Sci-Fi   \n",
              "2  Twelve Monkeys (a.k.a. 12 Monkeys) (1995)  Mystery|Sci-Fi|Thriller   \n",
              "3                Seven (a.k.a. Se7en) (1995)         Mystery|Thriller   \n",
              "4                 Usual Suspects, The (1995)   Crime|Mystery|Thriller   \n",
              "\n",
              "   TotalRatingCount  \n",
              "0                84  \n",
              "1                38  \n",
              "2               207  \n",
              "3               196  \n",
              "4               228  "
            ]
          },
          "execution_count": 14,
          "metadata": {},
          "output_type": "execute_result"
        }
      ],
      "source": [
        "# Merging the rating counts with the ratings\n",
        "ratings = ratings.merge(movie_rating_Count, left_on='title', right_on='title', how='left')\n",
        "# left_on => on left dataframe which column considered, right_on => on right dataframe which column considered\n",
        "ratings.head()"
      ]
    },
    {
      "cell_type": "code",
      "execution_count": null,
      "metadata": {
        "id": "M4oC12tkYBDM",
        "outputId": "9cbad3df-96bd-4664-ba7d-63d6cf5f340e"
      },
      "outputs": [
        {
          "data": {
            "text/html": [
              "<div>\n",
              "<style scoped>\n",
              "    .dataframe tbody tr th:only-of-type {\n",
              "        vertical-align: middle;\n",
              "    }\n",
              "\n",
              "    .dataframe tbody tr th {\n",
              "        vertical-align: top;\n",
              "    }\n",
              "\n",
              "    .dataframe thead th {\n",
              "        text-align: right;\n",
              "    }\n",
              "</style>\n",
              "<table border=\"1\" class=\"dataframe\">\n",
              "  <thead>\n",
              "    <tr style=\"text-align: right;\">\n",
              "      <th></th>\n",
              "      <th>userId</th>\n",
              "      <th>movieId</th>\n",
              "      <th>rating</th>\n",
              "      <th>timestamp</th>\n",
              "      <th>title</th>\n",
              "      <th>genres</th>\n",
              "      <th>TotalRatingCount</th>\n",
              "    </tr>\n",
              "  </thead>\n",
              "  <tbody>\n",
              "    <tr>\n",
              "      <th>2</th>\n",
              "      <td>1</td>\n",
              "      <td>32</td>\n",
              "      <td>4.0</td>\n",
              "      <td>1217896246</td>\n",
              "      <td>Twelve Monkeys (a.k.a. 12 Monkeys) (1995)</td>\n",
              "      <td>Mystery|Sci-Fi|Thriller</td>\n",
              "      <td>207</td>\n",
              "    </tr>\n",
              "    <tr>\n",
              "      <th>3</th>\n",
              "      <td>1</td>\n",
              "      <td>47</td>\n",
              "      <td>4.0</td>\n",
              "      <td>1217896556</td>\n",
              "      <td>Seven (a.k.a. Se7en) (1995)</td>\n",
              "      <td>Mystery|Thriller</td>\n",
              "      <td>196</td>\n",
              "    </tr>\n",
              "    <tr>\n",
              "      <th>4</th>\n",
              "      <td>1</td>\n",
              "      <td>50</td>\n",
              "      <td>4.0</td>\n",
              "      <td>1217896523</td>\n",
              "      <td>Usual Suspects, The (1995)</td>\n",
              "      <td>Crime|Mystery|Thriller</td>\n",
              "      <td>228</td>\n",
              "    </tr>\n",
              "    <tr>\n",
              "      <th>5</th>\n",
              "      <td>1</td>\n",
              "      <td>110</td>\n",
              "      <td>4.0</td>\n",
              "      <td>1217896150</td>\n",
              "      <td>Braveheart (1995)</td>\n",
              "      <td>Action|Drama|War</td>\n",
              "      <td>248</td>\n",
              "    </tr>\n",
              "    <tr>\n",
              "      <th>6</th>\n",
              "      <td>1</td>\n",
              "      <td>150</td>\n",
              "      <td>3.0</td>\n",
              "      <td>1217895940</td>\n",
              "      <td>Apollo 13 (1995)</td>\n",
              "      <td>Adventure|Drama|IMAX</td>\n",
              "      <td>197</td>\n",
              "    </tr>\n",
              "  </tbody>\n",
              "</table>\n",
              "</div>"
            ],
            "text/plain": [
              "   userId  movieId  rating   timestamp  \\\n",
              "2       1       32     4.0  1217896246   \n",
              "3       1       47     4.0  1217896556   \n",
              "4       1       50     4.0  1217896523   \n",
              "5       1      110     4.0  1217896150   \n",
              "6       1      150     3.0  1217895940   \n",
              "\n",
              "                                       title                   genres  \\\n",
              "2  Twelve Monkeys (a.k.a. 12 Monkeys) (1995)  Mystery|Sci-Fi|Thriller   \n",
              "3                Seven (a.k.a. Se7en) (1995)         Mystery|Thriller   \n",
              "4                 Usual Suspects, The (1995)   Crime|Mystery|Thriller   \n",
              "5                          Braveheart (1995)         Action|Drama|War   \n",
              "6                           Apollo 13 (1995)     Adventure|Drama|IMAX   \n",
              "\n",
              "   TotalRatingCount  \n",
              "2               207  \n",
              "3               196  \n",
              "4               228  \n",
              "5               248  \n",
              "6               197  "
            ]
          },
          "execution_count": 16,
          "metadata": {},
          "output_type": "execute_result"
        }
      ],
      "source": [
        "popularity_threshold = 100\n",
        "rating_popular_movie = ratings.query('TotalRatingCount >= @popularity_threshold')\n",
        "rating_popular_movie.head()"
      ]
    },
    {
      "cell_type": "code",
      "execution_count": null,
      "metadata": {
        "id": "fbhIy0w9YBDM",
        "outputId": "686f6f00-df4d-47c9-8c91-939edb0374e2"
      },
      "outputs": [
        {
          "data": {
            "text/plain": [
              "(22856, 7)"
            ]
          },
          "execution_count": 17,
          "metadata": {},
          "output_type": "execute_result"
        }
      ],
      "source": [
        "rating_popular_movie.shape\n"
      ]
    },
    {
      "cell_type": "code",
      "execution_count": null,
      "metadata": {
        "id": "vZZ4b-geYBDM",
        "outputId": "8e3b6c28-6e1f-4f0b-c93d-05075382863c"
      },
      "outputs": [
        {
          "data": {
            "text/plain": [
              "{'2001: A Space Odyssey (1968)',\n",
              " 'Ace Ventura: Pet Detective (1994)',\n",
              " 'Aladdin (1992)',\n",
              " 'Alien (1979)',\n",
              " 'Aliens (1986)',\n",
              " \"Amelie (Fabuleux destin d'Amélie Poulain, Le) (2001)\",\n",
              " 'American Beauty (1999)',\n",
              " 'American History X (1998)',\n",
              " 'American Pie (1999)',\n",
              " 'Apocalypse Now (1979)',\n",
              " 'Apollo 13 (1995)',\n",
              " 'Armageddon (1998)',\n",
              " 'Austin Powers: International Man of Mystery (1997)',\n",
              " 'Austin Powers: The Spy Who Shagged Me (1999)',\n",
              " 'Babe (1995)',\n",
              " 'Back to the Future (1985)',\n",
              " 'Back to the Future Part II (1989)',\n",
              " 'Batman (1989)',\n",
              " 'Batman Begins (2005)',\n",
              " 'Batman Forever (1995)',\n",
              " 'Beautiful Mind, A (2001)',\n",
              " 'Beauty and the Beast (1991)',\n",
              " 'Beetlejuice (1988)',\n",
              " 'Being John Malkovich (1999)',\n",
              " 'Big Lebowski, The (1998)',\n",
              " 'Birdcage, The (1996)',\n",
              " 'Blade Runner (1982)',\n",
              " 'Bourne Identity, The (2002)',\n",
              " 'Braveheart (1995)',\n",
              " 'Breakfast Club, The (1985)',\n",
              " 'Broken Arrow (1996)',\n",
              " \"Bug's Life, A (1998)\",\n",
              " 'Casablanca (1942)',\n",
              " 'Clear and Present Danger (1994)',\n",
              " 'Clerks (1994)',\n",
              " 'Cliffhanger (1993)',\n",
              " 'Clockwork Orange, A (1971)',\n",
              " 'Crimson Tide (1995)',\n",
              " 'Crouching Tiger, Hidden Dragon (Wo hu cang long) (2000)',\n",
              " 'Dances with Wolves (1990)',\n",
              " 'Dark Knight, The (2008)',\n",
              " 'Die Hard (1988)',\n",
              " 'Die Hard: With a Vengeance (1995)',\n",
              " 'Dr. Strangelove or: How I Learned to Stop Worrying and Love the Bomb (1964)',\n",
              " 'Dumb & Dumber (Dumb and Dumber) (1994)',\n",
              " 'E.T. the Extra-Terrestrial (1982)',\n",
              " 'Edward Scissorhands (1990)',\n",
              " 'Fargo (1996)',\n",
              " \"Ferris Bueller's Day Off (1986)\",\n",
              " 'Fifth Element, The (1997)',\n",
              " 'Fight Club (1999)',\n",
              " 'Finding Nemo (2003)',\n",
              " 'Firm, The (1993)',\n",
              " 'Fish Called Wanda, A (1988)',\n",
              " 'Forrest Gump (1994)',\n",
              " 'Four Weddings and a Funeral (1994)',\n",
              " 'Fugitive, The (1993)',\n",
              " 'Full Metal Jacket (1987)',\n",
              " 'Get Shorty (1995)',\n",
              " 'Ghost (1990)',\n",
              " 'Ghostbusters (a.k.a. Ghost Busters) (1984)',\n",
              " 'Gladiator (2000)',\n",
              " 'Godfather, The (1972)',\n",
              " 'Godfather: Part II, The (1974)',\n",
              " 'GoldenEye (1995)',\n",
              " 'Good Will Hunting (1997)',\n",
              " 'Goodfellas (1990)',\n",
              " 'Green Mile, The (1999)',\n",
              " 'Groundhog Day (1993)',\n",
              " 'Heat (1995)',\n",
              " 'Home Alone (1990)',\n",
              " 'Hunt for Red October, The (1990)',\n",
              " 'In the Line of Fire (1993)',\n",
              " 'Inception (2010)',\n",
              " 'Incredibles, The (2004)',\n",
              " 'Independence Day (a.k.a. ID4) (1996)',\n",
              " 'Indiana Jones and the Last Crusade (1989)',\n",
              " 'Indiana Jones and the Temple of Doom (1984)',\n",
              " 'Interview with the Vampire: The Vampire Chronicles (1994)',\n",
              " 'Jaws (1975)',\n",
              " 'Jerry Maguire (1996)',\n",
              " 'Jurassic Park (1993)',\n",
              " 'Kill Bill: Vol. 1 (2003)',\n",
              " 'L.A. Confidential (1997)',\n",
              " 'Lion King, The (1994)',\n",
              " 'Lord of the Rings: The Fellowship of the Ring, The (2001)',\n",
              " 'Lord of the Rings: The Return of the King, The (2003)',\n",
              " 'Lord of the Rings: The Two Towers, The (2002)',\n",
              " 'Léon: The Professional (a.k.a. The Professional) (Léon) (1994)',\n",
              " 'Mask, The (1994)',\n",
              " 'Matrix, The (1999)',\n",
              " 'Memento (2000)',\n",
              " 'Men in Black (a.k.a. MIB) (1997)',\n",
              " 'Minority Report (2002)',\n",
              " 'Mission: Impossible (1996)',\n",
              " 'Monsters, Inc. (2001)',\n",
              " 'Monty Python and the Holy Grail (1975)',\n",
              " \"Monty Python's Life of Brian (1979)\",\n",
              " 'Mrs. Doubtfire (1993)',\n",
              " 'Natural Born Killers (1994)',\n",
              " 'Net, The (1995)',\n",
              " \"Ocean's Eleven (2001)\",\n",
              " \"One Flew Over the Cuckoo's Nest (1975)\",\n",
              " 'Outbreak (1995)',\n",
              " 'Pirates of the Caribbean: The Curse of the Black Pearl (2003)',\n",
              " 'Pretty Woman (1990)',\n",
              " 'Princess Bride, The (1987)',\n",
              " 'Pulp Fiction (1994)',\n",
              " 'Raiders of the Lost Ark (Indiana Jones and the Raiders of the Lost Ark) (1981)',\n",
              " 'Rain Man (1988)',\n",
              " 'Reservoir Dogs (1992)',\n",
              " 'Rock, The (1996)',\n",
              " 'Saving Private Ryan (1998)',\n",
              " \"Schindler's List (1993)\",\n",
              " 'Sense and Sensibility (1995)',\n",
              " 'Seven (a.k.a. Se7en) (1995)',\n",
              " 'Shakespeare in Love (1998)',\n",
              " 'Shawshank Redemption, The (1994)',\n",
              " 'Shining, The (1980)',\n",
              " 'Shrek (2001)',\n",
              " 'Silence of the Lambs, The (1991)',\n",
              " 'Sixth Sense, The (1999)',\n",
              " 'Sleepless in Seattle (1993)',\n",
              " 'Speed (1994)',\n",
              " 'Spider-Man (2002)',\n",
              " 'Stand by Me (1986)',\n",
              " 'Star Trek: Generations (1994)',\n",
              " 'Star Wars: Episode I - The Phantom Menace (1999)',\n",
              " 'Star Wars: Episode IV - A New Hope (1977)',\n",
              " 'Star Wars: Episode V - The Empire Strikes Back (1980)',\n",
              " 'Star Wars: Episode VI - Return of the Jedi (1983)',\n",
              " 'Stargate (1994)',\n",
              " 'Taxi Driver (1976)',\n",
              " 'Terminator 2: Judgment Day (1991)',\n",
              " 'Terminator, The (1984)',\n",
              " \"There's Something About Mary (1998)\",\n",
              " 'Titanic (1997)',\n",
              " 'Top Gun (1986)',\n",
              " 'Total Recall (1990)',\n",
              " 'Toy Story (1995)',\n",
              " 'Toy Story 2 (1999)',\n",
              " 'Trainspotting (1996)',\n",
              " 'True Lies (1994)',\n",
              " 'Truman Show, The (1998)',\n",
              " 'Twelve Monkeys (a.k.a. 12 Monkeys) (1995)',\n",
              " 'Twister (1996)',\n",
              " 'Usual Suspects, The (1995)',\n",
              " 'Waterworld (1995)',\n",
              " 'While You Were Sleeping (1995)',\n",
              " 'Who Framed Roger Rabbit? (1988)',\n",
              " 'Willy Wonka & the Chocolate Factory (1971)',\n",
              " 'Wizard of Oz, The (1939)',\n",
              " 'X-Men (2000)'}"
            ]
          },
          "execution_count": 18,
          "metadata": {},
          "output_type": "execute_result"
        }
      ],
      "source": [
        "s = set(rating_popular_movie['title'])\n",
        "s"
      ]
    },
    {
      "cell_type": "code",
      "execution_count": null,
      "metadata": {
        "id": "OHCTjy6UYBDN",
        "outputId": "d7391227-006e-4fa4-e78c-d7b0061495b5"
      },
      "outputs": [
        {
          "data": {
            "text/html": [
              "<div>\n",
              "<style scoped>\n",
              "    .dataframe tbody tr th:only-of-type {\n",
              "        vertical-align: middle;\n",
              "    }\n",
              "\n",
              "    .dataframe tbody tr th {\n",
              "        vertical-align: top;\n",
              "    }\n",
              "\n",
              "    .dataframe thead th {\n",
              "        text-align: right;\n",
              "    }\n",
              "</style>\n",
              "<table border=\"1\" class=\"dataframe\">\n",
              "  <thead>\n",
              "    <tr style=\"text-align: right;\">\n",
              "      <th>userId</th>\n",
              "      <th>1</th>\n",
              "      <th>2</th>\n",
              "      <th>3</th>\n",
              "      <th>4</th>\n",
              "      <th>5</th>\n",
              "      <th>6</th>\n",
              "      <th>7</th>\n",
              "      <th>8</th>\n",
              "      <th>9</th>\n",
              "      <th>10</th>\n",
              "      <th>...</th>\n",
              "      <th>659</th>\n",
              "      <th>660</th>\n",
              "      <th>661</th>\n",
              "      <th>662</th>\n",
              "      <th>663</th>\n",
              "      <th>664</th>\n",
              "      <th>665</th>\n",
              "      <th>666</th>\n",
              "      <th>667</th>\n",
              "      <th>668</th>\n",
              "    </tr>\n",
              "    <tr>\n",
              "      <th>title</th>\n",
              "      <th></th>\n",
              "      <th></th>\n",
              "      <th></th>\n",
              "      <th></th>\n",
              "      <th></th>\n",
              "      <th></th>\n",
              "      <th></th>\n",
              "      <th></th>\n",
              "      <th></th>\n",
              "      <th></th>\n",
              "      <th></th>\n",
              "      <th></th>\n",
              "      <th></th>\n",
              "      <th></th>\n",
              "      <th></th>\n",
              "      <th></th>\n",
              "      <th></th>\n",
              "      <th></th>\n",
              "      <th></th>\n",
              "      <th></th>\n",
              "      <th></th>\n",
              "    </tr>\n",
              "  </thead>\n",
              "  <tbody>\n",
              "    <tr>\n",
              "      <th>2001: A Space Odyssey (1968)</th>\n",
              "      <td>0.0</td>\n",
              "      <td>0.0</td>\n",
              "      <td>0.0</td>\n",
              "      <td>0.0</td>\n",
              "      <td>0.0</td>\n",
              "      <td>0.0</td>\n",
              "      <td>0.0</td>\n",
              "      <td>0.0</td>\n",
              "      <td>0.0</td>\n",
              "      <td>0.0</td>\n",
              "      <td>...</td>\n",
              "      <td>0.0</td>\n",
              "      <td>0.0</td>\n",
              "      <td>0.0</td>\n",
              "      <td>5.0</td>\n",
              "      <td>0.0</td>\n",
              "      <td>0.0</td>\n",
              "      <td>0.0</td>\n",
              "      <td>0.0</td>\n",
              "      <td>0.0</td>\n",
              "      <td>3.0</td>\n",
              "    </tr>\n",
              "    <tr>\n",
              "      <th>Ace Ventura: Pet Detective (1994)</th>\n",
              "      <td>0.0</td>\n",
              "      <td>0.0</td>\n",
              "      <td>0.0</td>\n",
              "      <td>0.0</td>\n",
              "      <td>1.0</td>\n",
              "      <td>0.0</td>\n",
              "      <td>1.0</td>\n",
              "      <td>0.0</td>\n",
              "      <td>2.0</td>\n",
              "      <td>0.0</td>\n",
              "      <td>...</td>\n",
              "      <td>0.0</td>\n",
              "      <td>0.0</td>\n",
              "      <td>0.0</td>\n",
              "      <td>0.0</td>\n",
              "      <td>0.0</td>\n",
              "      <td>0.0</td>\n",
              "      <td>3.0</td>\n",
              "      <td>0.0</td>\n",
              "      <td>3.5</td>\n",
              "      <td>0.0</td>\n",
              "    </tr>\n",
              "    <tr>\n",
              "      <th>Aladdin (1992)</th>\n",
              "      <td>0.0</td>\n",
              "      <td>0.0</td>\n",
              "      <td>3.0</td>\n",
              "      <td>0.0</td>\n",
              "      <td>3.5</td>\n",
              "      <td>0.0</td>\n",
              "      <td>0.0</td>\n",
              "      <td>0.0</td>\n",
              "      <td>0.0</td>\n",
              "      <td>0.0</td>\n",
              "      <td>...</td>\n",
              "      <td>3.0</td>\n",
              "      <td>0.0</td>\n",
              "      <td>0.0</td>\n",
              "      <td>0.0</td>\n",
              "      <td>0.0</td>\n",
              "      <td>0.0</td>\n",
              "      <td>0.0</td>\n",
              "      <td>0.0</td>\n",
              "      <td>0.0</td>\n",
              "      <td>3.0</td>\n",
              "    </tr>\n",
              "    <tr>\n",
              "      <th>Alien (1979)</th>\n",
              "      <td>0.0</td>\n",
              "      <td>0.0</td>\n",
              "      <td>0.0</td>\n",
              "      <td>0.0</td>\n",
              "      <td>0.0</td>\n",
              "      <td>0.0</td>\n",
              "      <td>5.0</td>\n",
              "      <td>0.0</td>\n",
              "      <td>0.0</td>\n",
              "      <td>0.0</td>\n",
              "      <td>...</td>\n",
              "      <td>0.0</td>\n",
              "      <td>0.0</td>\n",
              "      <td>0.0</td>\n",
              "      <td>5.0</td>\n",
              "      <td>0.0</td>\n",
              "      <td>2.0</td>\n",
              "      <td>0.0</td>\n",
              "      <td>4.0</td>\n",
              "      <td>0.0</td>\n",
              "      <td>4.0</td>\n",
              "    </tr>\n",
              "    <tr>\n",
              "      <th>Aliens (1986)</th>\n",
              "      <td>0.0</td>\n",
              "      <td>0.0</td>\n",
              "      <td>0.0</td>\n",
              "      <td>0.0</td>\n",
              "      <td>0.0</td>\n",
              "      <td>0.0</td>\n",
              "      <td>5.0</td>\n",
              "      <td>0.0</td>\n",
              "      <td>0.0</td>\n",
              "      <td>0.0</td>\n",
              "      <td>...</td>\n",
              "      <td>0.0</td>\n",
              "      <td>0.0</td>\n",
              "      <td>0.0</td>\n",
              "      <td>0.0</td>\n",
              "      <td>0.0</td>\n",
              "      <td>0.0</td>\n",
              "      <td>0.0</td>\n",
              "      <td>0.0</td>\n",
              "      <td>0.0</td>\n",
              "      <td>3.5</td>\n",
              "    </tr>\n",
              "  </tbody>\n",
              "</table>\n",
              "<p>5 rows × 653 columns</p>\n",
              "</div>"
            ],
            "text/plain": [
              "userId                             1    2    3    4    5    6    7    8    \\\n",
              "title                                                                       \n",
              "2001: A Space Odyssey (1968)       0.0  0.0  0.0  0.0  0.0  0.0  0.0  0.0   \n",
              "Ace Ventura: Pet Detective (1994)  0.0  0.0  0.0  0.0  1.0  0.0  1.0  0.0   \n",
              "Aladdin (1992)                     0.0  0.0  3.0  0.0  3.5  0.0  0.0  0.0   \n",
              "Alien (1979)                       0.0  0.0  0.0  0.0  0.0  0.0  5.0  0.0   \n",
              "Aliens (1986)                      0.0  0.0  0.0  0.0  0.0  0.0  5.0  0.0   \n",
              "\n",
              "userId                             9    10   ...  659  660  661  662  663  \\\n",
              "title                                        ...                            \n",
              "2001: A Space Odyssey (1968)       0.0  0.0  ...  0.0  0.0  0.0  5.0  0.0   \n",
              "Ace Ventura: Pet Detective (1994)  2.0  0.0  ...  0.0  0.0  0.0  0.0  0.0   \n",
              "Aladdin (1992)                     0.0  0.0  ...  3.0  0.0  0.0  0.0  0.0   \n",
              "Alien (1979)                       0.0  0.0  ...  0.0  0.0  0.0  5.0  0.0   \n",
              "Aliens (1986)                      0.0  0.0  ...  0.0  0.0  0.0  0.0  0.0   \n",
              "\n",
              "userId                             664  665  666  667  668  \n",
              "title                                                       \n",
              "2001: A Space Odyssey (1968)       0.0  0.0  0.0  0.0  3.0  \n",
              "Ace Ventura: Pet Detective (1994)  0.0  3.0  0.0  3.5  0.0  \n",
              "Aladdin (1992)                     0.0  0.0  0.0  0.0  3.0  \n",
              "Alien (1979)                       2.0  0.0  4.0  0.0  4.0  \n",
              "Aliens (1986)                      0.0  0.0  0.0  0.0  3.5  \n",
              "\n",
              "[5 rows x 653 columns]"
            ]
          },
          "execution_count": 20,
          "metadata": {},
          "output_type": "execute_result"
        }
      ],
      "source": [
        "# Create a Pivot Table\n",
        "features = rating_popular_movie.pivot_table(index='title', columns='userId', values='rating').fillna(0)\n",
        "features.head()"
      ]
    },
    {
      "cell_type": "code",
      "execution_count": null,
      "metadata": {
        "id": "STP0q2tEYBDO",
        "outputId": "8db8bf64-bafe-4391-eb73-1e45dd20f096"
      },
      "outputs": [
        {
          "data": {
            "text/plain": [
              "<153x653 sparse matrix of type '<class 'numpy.float64'>'\n",
              "\twith 22856 stored elements in Compressed Sparse Row format>"
            ]
          },
          "execution_count": 21,
          "metadata": {},
          "output_type": "execute_result"
        }
      ],
      "source": [
        "from scipy.sparse import csr_matrix\n",
        "features_matrix = csr_matrix(features.values)    # All info of pivot table converted into an array\n",
        "features_matrix"
      ]
    },
    {
      "cell_type": "code",
      "execution_count": null,
      "metadata": {
        "id": "PD1xQDKSYBDO",
        "outputId": "f702301b-6390-403b-88d9-fcc12623fce3"
      },
      "outputs": [
        {
          "data": {
            "text/plain": [
              "NearestNeighbors(algorithm='brute', metric='cosine')"
            ]
          },
          "execution_count": 22,
          "metadata": {},
          "output_type": "execute_result"
        }
      ],
      "source": [
        "from sklearn.neighbors import NearestNeighbors   # Not KNearestNeighbors, NearestNeighbors => Unsupervised Algo\n",
        "model = NearestNeighbors(metric = \"cosine\", algorithm=\"brute\")\n",
        "model.fit(features_matrix)"
      ]
    },
    {
      "cell_type": "code",
      "execution_count": null,
      "metadata": {
        "id": "RrLB4bJQYBDO",
        "outputId": "55ee62ae-e6a3-4e9f-ded6-81b1cb26fa04"
      },
      "outputs": [
        {
          "data": {
            "text/plain": [
              "(153, 653)"
            ]
          },
          "execution_count": 23,
          "metadata": {},
          "output_type": "execute_result"
        }
      ],
      "source": [
        "features.shape\n"
      ]
    },
    {
      "cell_type": "code",
      "execution_count": null,
      "metadata": {
        "id": "DQnYXGyUYBDP",
        "outputId": "05d6d6d9-6666-4793-b8ca-c132581ebe4d"
      },
      "outputs": [
        {
          "name": "stdout",
          "output_type": "stream",
          "text": [
            "113\n"
          ]
        }
      ],
      "source": [
        "# Taking a new movie at random\n",
        "query_index = np.random.choice(features.shape[0])    # Collect 1 record\n",
        "print(query_index)"
      ]
    },
    {
      "cell_type": "code",
      "execution_count": null,
      "metadata": {
        "id": "JaQ_1Ju-YBDP"
      },
      "outputs": [],
      "source": [
        "# Find similar movies(nearer to the selected movie) using kneighbors\n",
        "distances, indices = model.kneighbors(features.iloc[query_index,:].values.reshape(1, -1), n_neighbors=6)\n",
        "# n_neighbors = 6 => will include the movie itself => We will be getting 5 other movie recommendations"
      ]
    },
    {
      "cell_type": "code",
      "execution_count": null,
      "metadata": {
        "id": "0Hy7wYB8YBDP",
        "outputId": "13aa5f20-5413-4b9c-dda7-3197f623f835"
      },
      "outputs": [
        {
          "data": {
            "text/plain": [
              "array([[1.44328993e-15, 3.76512178e-01, 3.98468833e-01, 3.99802741e-01,\n",
              "        4.18355051e-01, 4.53282727e-01]])"
            ]
          },
          "execution_count": 28,
          "metadata": {},
          "output_type": "execute_result"
        }
      ],
      "source": [
        "distances\n"
      ]
    },
    {
      "cell_type": "code",
      "execution_count": null,
      "metadata": {
        "id": "A-h_kp2dYBDQ",
        "outputId": "0fb8e918-46e7-451c-d2c6-ac40f5a88ada"
      },
      "outputs": [
        {
          "data": {
            "text/plain": [
              "array([[113, 117, 107, 120,  54,  81]], dtype=int64)"
            ]
          },
          "execution_count": 29,
          "metadata": {},
          "output_type": "execute_result"
        }
      ],
      "source": [
        "indices\n"
      ]
    },
    {
      "cell_type": "code",
      "execution_count": null,
      "metadata": {
        "id": "kvwVIWDHYBDQ",
        "outputId": "082870db-1e9c-4676-9a31-8721193c4f07"
      },
      "outputs": [
        {
          "name": "stdout",
          "output_type": "stream",
          "text": [
            "Recommendations for Schindler's List (1993):\n",
            "\n",
            "1: Shawshank Redemption, The (1994), with distance of 0.37651217818091653:\n",
            "2: Pulp Fiction (1994), with distance of 0.39846883295454893:\n",
            "3: Silence of the Lambs, The (1991), with distance of 0.3998027414348021:\n",
            "4: Forrest Gump (1994), with distance of 0.4183550510675107:\n",
            "5: Jurassic Park (1993), with distance of 0.4532827268444225:\n"
          ]
        }
      ],
      "source": [
        "# Print top 5 movie name recommendations for movie along with the distances from original movie\n",
        "for i in range(0, len(distances.flatten())):     # Convert 'distances' array into 1-D array\n",
        "    if(i==0):\n",
        "        print(\"Recommendations for {0}:\\n\".format(features.index[query_index]))    # 1st recommendation => same movie itself\n",
        "    else:\n",
        "        print(\"{0}: {1}, with distance of {2}:\".format(i, features.index[indices.flatten()[i]], distances.flatten()[i]))"
      ]
    }
  ],
  "metadata": {
    "kernelspec": {
      "display_name": "Python 3 (ipykernel)",
      "language": "python",
      "name": "python3"
    },
    "language_info": {
      "codemirror_mode": {
        "name": "ipython",
        "version": 3
      },
      "file_extension": ".py",
      "mimetype": "text/x-python",
      "name": "python",
      "nbconvert_exporter": "python",
      "pygments_lexer": "ipython3",
      "version": "3.9.13"
    },
    "colab": {
      "provenance": [],
      "include_colab_link": true
    }
  },
  "nbformat": 4,
  "nbformat_minor": 0
}