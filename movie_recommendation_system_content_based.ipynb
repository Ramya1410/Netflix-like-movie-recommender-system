{
  "cells": [
    {
      "cell_type": "markdown",
      "metadata": {
        "id": "view-in-github",
        "colab_type": "text"
      },
      "source": [
        "<a href=\"https://colab.research.google.com/github/Ramya1410/Netflix-like-movie-recommender-system/blob/main/movie_recommendation_system_content_based.ipynb\" target=\"_parent\"><img src=\"https://colab.research.google.com/assets/colab-badge.svg\" alt=\"Open In Colab\"/></a>"
      ]
    },
    {
      "cell_type": "code",
      "execution_count": null,
      "metadata": {
        "id": "EA3Q1ILeXyle"
      },
      "outputs": [],
      "source": [
        "import pandas as pd\n",
        "import matplotlib.pyplot as plt\n",
        "from wordcloud import WordCloud\n",
        "from sklearn.feature_extraction.text import TfidfVectorizer\n",
        "from sklearn.metrics.pairwise import linear_kernel"
      ]
    },
    {
      "cell_type": "markdown",
      "metadata": {
        "id": "iQrXAi6cXylg"
      },
      "source": [
        "## Loading data files"
      ]
    },
    {
      "cell_type": "code",
      "execution_count": null,
      "metadata": {
        "id": "OG5k-UNVXylh"
      },
      "outputs": [],
      "source": [
        "movies = pd.read_csv(\"movies.csv\")\n",
        "ratings = pd.read_csv(\"ratings.csv\")"
      ]
    },
    {
      "cell_type": "code",
      "execution_count": null,
      "metadata": {
        "id": "P0U5ApeJXyli",
        "outputId": "b04ff92b-6c32-4e9d-ea2c-7b9b7c6db8dc"
      },
      "outputs": [
        {
          "name": "stdout",
          "output_type": "stream",
          "text": [
            "<class 'pandas.core.frame.DataFrame'>\n",
            "RangeIndex: 10329 entries, 0 to 10328\n",
            "Data columns (total 3 columns):\n",
            " #   Column   Non-Null Count  Dtype \n",
            "---  ------   --------------  ----- \n",
            " 0   movieId  10329 non-null  int64 \n",
            " 1   title    10329 non-null  object\n",
            " 2   genres   10329 non-null  object\n",
            "dtypes: int64(1), object(2)\n",
            "memory usage: 242.2+ KB\n"
          ]
        }
      ],
      "source": [
        "movies.info()"
      ]
    },
    {
      "cell_type": "code",
      "execution_count": null,
      "metadata": {
        "id": "cixthqTDXylj",
        "outputId": "fbd2ae09-eeaa-4ec2-dca0-308070c1560d"
      },
      "outputs": [
        {
          "name": "stdout",
          "output_type": "stream",
          "text": [
            "<class 'pandas.core.frame.DataFrame'>\n",
            "RangeIndex: 105339 entries, 0 to 105338\n",
            "Data columns (total 4 columns):\n",
            " #   Column     Non-Null Count   Dtype  \n",
            "---  ------     --------------   -----  \n",
            " 0   userId     105339 non-null  int64  \n",
            " 1   movieId    105339 non-null  int64  \n",
            " 2   rating     105339 non-null  float64\n",
            " 3   timestamp  105339 non-null  int64  \n",
            "dtypes: float64(1), int64(3)\n",
            "memory usage: 3.2 MB\n"
          ]
        }
      ],
      "source": [
        "ratings.info()"
      ]
    },
    {
      "cell_type": "code",
      "execution_count": null,
      "metadata": {
        "id": "jH10yV7BXylj",
        "outputId": "b6f43fd5-8404-494a-90ff-ac49012acbbb"
      },
      "outputs": [
        {
          "data": {
            "text/plain": [
              "(10329, 3)"
            ]
          },
          "execution_count": 6,
          "metadata": {},
          "output_type": "execute_result"
        }
      ],
      "source": [
        "movies.shape"
      ]
    },
    {
      "cell_type": "code",
      "execution_count": null,
      "metadata": {
        "id": "nBKVtts9Xylj",
        "outputId": "797af5ea-74d0-45ea-9f61-6de81e56f304"
      },
      "outputs": [
        {
          "data": {
            "text/plain": [
              "(105339, 4)"
            ]
          },
          "execution_count": 7,
          "metadata": {},
          "output_type": "execute_result"
        }
      ],
      "source": [
        "ratings.shape"
      ]
    },
    {
      "cell_type": "code",
      "execution_count": null,
      "metadata": {
        "id": "Lm1EjCkYXylk",
        "outputId": "685216af-4341-4b07-ddff-6b471abe4163"
      },
      "outputs": [
        {
          "data": {
            "text/html": [
              "<div>\n",
              "<style scoped>\n",
              "    .dataframe tbody tr th:only-of-type {\n",
              "        vertical-align: middle;\n",
              "    }\n",
              "\n",
              "    .dataframe tbody tr th {\n",
              "        vertical-align: top;\n",
              "    }\n",
              "\n",
              "    .dataframe thead th {\n",
              "        text-align: right;\n",
              "    }\n",
              "</style>\n",
              "<table border=\"1\" class=\"dataframe\">\n",
              "  <thead>\n",
              "    <tr style=\"text-align: right;\">\n",
              "      <th></th>\n",
              "      <th>movieId</th>\n",
              "    </tr>\n",
              "  </thead>\n",
              "  <tbody>\n",
              "    <tr>\n",
              "      <th>count</th>\n",
              "      <td>10329.000000</td>\n",
              "    </tr>\n",
              "    <tr>\n",
              "      <th>mean</th>\n",
              "      <td>31924.282893</td>\n",
              "    </tr>\n",
              "    <tr>\n",
              "      <th>std</th>\n",
              "      <td>37734.741149</td>\n",
              "    </tr>\n",
              "    <tr>\n",
              "      <th>min</th>\n",
              "      <td>1.000000</td>\n",
              "    </tr>\n",
              "    <tr>\n",
              "      <th>25%</th>\n",
              "      <td>3240.000000</td>\n",
              "    </tr>\n",
              "    <tr>\n",
              "      <th>50%</th>\n",
              "      <td>7088.000000</td>\n",
              "    </tr>\n",
              "    <tr>\n",
              "      <th>75%</th>\n",
              "      <td>59900.000000</td>\n",
              "    </tr>\n",
              "    <tr>\n",
              "      <th>max</th>\n",
              "      <td>149532.000000</td>\n",
              "    </tr>\n",
              "  </tbody>\n",
              "</table>\n",
              "</div>"
            ],
            "text/plain": [
              "             movieId\n",
              "count   10329.000000\n",
              "mean    31924.282893\n",
              "std     37734.741149\n",
              "min         1.000000\n",
              "25%      3240.000000\n",
              "50%      7088.000000\n",
              "75%     59900.000000\n",
              "max    149532.000000"
            ]
          },
          "execution_count": 8,
          "metadata": {},
          "output_type": "execute_result"
        }
      ],
      "source": [
        "movies.describe()"
      ]
    },
    {
      "cell_type": "code",
      "execution_count": null,
      "metadata": {
        "id": "Ds5GvBYgXylk",
        "outputId": "fc038aa3-e9da-434d-f49c-570a1f71cd5c"
      },
      "outputs": [
        {
          "data": {
            "text/html": [
              "<div>\n",
              "<style scoped>\n",
              "    .dataframe tbody tr th:only-of-type {\n",
              "        vertical-align: middle;\n",
              "    }\n",
              "\n",
              "    .dataframe tbody tr th {\n",
              "        vertical-align: top;\n",
              "    }\n",
              "\n",
              "    .dataframe thead th {\n",
              "        text-align: right;\n",
              "    }\n",
              "</style>\n",
              "<table border=\"1\" class=\"dataframe\">\n",
              "  <thead>\n",
              "    <tr style=\"text-align: right;\">\n",
              "      <th></th>\n",
              "      <th>userId</th>\n",
              "      <th>movieId</th>\n",
              "      <th>rating</th>\n",
              "      <th>timestamp</th>\n",
              "    </tr>\n",
              "  </thead>\n",
              "  <tbody>\n",
              "    <tr>\n",
              "      <th>count</th>\n",
              "      <td>105339.000000</td>\n",
              "      <td>105339.000000</td>\n",
              "      <td>105339.000000</td>\n",
              "      <td>1.053390e+05</td>\n",
              "    </tr>\n",
              "    <tr>\n",
              "      <th>mean</th>\n",
              "      <td>364.924539</td>\n",
              "      <td>13381.312477</td>\n",
              "      <td>3.516850</td>\n",
              "      <td>1.130424e+09</td>\n",
              "    </tr>\n",
              "    <tr>\n",
              "      <th>std</th>\n",
              "      <td>197.486905</td>\n",
              "      <td>26170.456869</td>\n",
              "      <td>1.044872</td>\n",
              "      <td>1.802660e+08</td>\n",
              "    </tr>\n",
              "    <tr>\n",
              "      <th>min</th>\n",
              "      <td>1.000000</td>\n",
              "      <td>1.000000</td>\n",
              "      <td>0.500000</td>\n",
              "      <td>8.285650e+08</td>\n",
              "    </tr>\n",
              "    <tr>\n",
              "      <th>25%</th>\n",
              "      <td>192.000000</td>\n",
              "      <td>1073.000000</td>\n",
              "      <td>3.000000</td>\n",
              "      <td>9.711008e+08</td>\n",
              "    </tr>\n",
              "    <tr>\n",
              "      <th>50%</th>\n",
              "      <td>383.000000</td>\n",
              "      <td>2497.000000</td>\n",
              "      <td>3.500000</td>\n",
              "      <td>1.115154e+09</td>\n",
              "    </tr>\n",
              "    <tr>\n",
              "      <th>75%</th>\n",
              "      <td>557.000000</td>\n",
              "      <td>5991.000000</td>\n",
              "      <td>4.000000</td>\n",
              "      <td>1.275496e+09</td>\n",
              "    </tr>\n",
              "    <tr>\n",
              "      <th>max</th>\n",
              "      <td>668.000000</td>\n",
              "      <td>149532.000000</td>\n",
              "      <td>5.000000</td>\n",
              "      <td>1.452405e+09</td>\n",
              "    </tr>\n",
              "  </tbody>\n",
              "</table>\n",
              "</div>"
            ],
            "text/plain": [
              "              userId        movieId         rating     timestamp\n",
              "count  105339.000000  105339.000000  105339.000000  1.053390e+05\n",
              "mean      364.924539   13381.312477       3.516850  1.130424e+09\n",
              "std       197.486905   26170.456869       1.044872  1.802660e+08\n",
              "min         1.000000       1.000000       0.500000  8.285650e+08\n",
              "25%       192.000000    1073.000000       3.000000  9.711008e+08\n",
              "50%       383.000000    2497.000000       3.500000  1.115154e+09\n",
              "75%       557.000000    5991.000000       4.000000  1.275496e+09\n",
              "max       668.000000  149532.000000       5.000000  1.452405e+09"
            ]
          },
          "execution_count": 9,
          "metadata": {},
          "output_type": "execute_result"
        }
      ],
      "source": [
        "ratings.describe()"
      ]
    },
    {
      "cell_type": "markdown",
      "metadata": {
        "id": "XhWPdKxtXylk"
      },
      "source": [
        " From the above table we can conclue that\n",
        " \n",
        " - The average rating is 3.5 and minimum and maximum rating is 0.5 and 5 respectively. \n",
        " - There are 668 user who has given their ratings for 149532 movies.\n"
      ]
    },
    {
      "cell_type": "code",
      "execution_count": null,
      "metadata": {
        "id": "b6RTPbWxXylk"
      },
      "outputs": [],
      "source": [
        "genres=[]\n",
        "for genre in movies.genres:\n",
        "    \n",
        "    x=genre.split('|')\n",
        "    for i in x:\n",
        "         if i not in genres:\n",
        "            genres.append(str(i))\n",
        "genres=str(genres)    \n",
        "movie_title=[]\n",
        "for title in movies.title:\n",
        "    movie_title.append(title[0:-7])\n",
        "movie_title=str(movie_title)    "
      ]
    },
    {
      "cell_type": "code",
      "execution_count": null,
      "metadata": {
        "id": "bzYQl2yiXyll",
        "outputId": "d1b66df6-be8a-4552-9caa-800205facca8"
      },
      "outputs": [
        {
          "data": {
            "text/html": [
              "<div>\n",
              "<style scoped>\n",
              "    .dataframe tbody tr th:only-of-type {\n",
              "        vertical-align: middle;\n",
              "    }\n",
              "\n",
              "    .dataframe tbody tr th {\n",
              "        vertical-align: top;\n",
              "    }\n",
              "\n",
              "    .dataframe thead th {\n",
              "        text-align: right;\n",
              "    }\n",
              "</style>\n",
              "<table border=\"1\" class=\"dataframe\">\n",
              "  <thead>\n",
              "    <tr style=\"text-align: right;\">\n",
              "      <th></th>\n",
              "      <th>userId</th>\n",
              "      <th>movieId</th>\n",
              "      <th>rating</th>\n",
              "      <th>timestamp</th>\n",
              "      <th>title</th>\n",
              "      <th>genres</th>\n",
              "    </tr>\n",
              "  </thead>\n",
              "  <tbody>\n",
              "    <tr>\n",
              "      <th>0</th>\n",
              "      <td>1</td>\n",
              "      <td>16</td>\n",
              "      <td>4.0</td>\n",
              "      <td>1217897793</td>\n",
              "      <td>Casino (1995)</td>\n",
              "      <td>Crime|Drama</td>\n",
              "    </tr>\n",
              "    <tr>\n",
              "      <th>1</th>\n",
              "      <td>1</td>\n",
              "      <td>24</td>\n",
              "      <td>1.5</td>\n",
              "      <td>1217895807</td>\n",
              "      <td>Powder (1995)</td>\n",
              "      <td>Drama|Sci-Fi</td>\n",
              "    </tr>\n",
              "    <tr>\n",
              "      <th>2</th>\n",
              "      <td>1</td>\n",
              "      <td>32</td>\n",
              "      <td>4.0</td>\n",
              "      <td>1217896246</td>\n",
              "      <td>Twelve Monkeys (a.k.a. 12 Monkeys) (1995)</td>\n",
              "      <td>Mystery|Sci-Fi|Thriller</td>\n",
              "    </tr>\n",
              "    <tr>\n",
              "      <th>3</th>\n",
              "      <td>1</td>\n",
              "      <td>47</td>\n",
              "      <td>4.0</td>\n",
              "      <td>1217896556</td>\n",
              "      <td>Seven (a.k.a. Se7en) (1995)</td>\n",
              "      <td>Mystery|Thriller</td>\n",
              "    </tr>\n",
              "    <tr>\n",
              "      <th>4</th>\n",
              "      <td>1</td>\n",
              "      <td>50</td>\n",
              "      <td>4.0</td>\n",
              "      <td>1217896523</td>\n",
              "      <td>Usual Suspects, The (1995)</td>\n",
              "      <td>Crime|Mystery|Thriller</td>\n",
              "    </tr>\n",
              "  </tbody>\n",
              "</table>\n",
              "</div>"
            ],
            "text/plain": [
              "   userId  movieId  rating   timestamp  \\\n",
              "0       1       16     4.0  1217897793   \n",
              "1       1       24     1.5  1217895807   \n",
              "2       1       32     4.0  1217896246   \n",
              "3       1       47     4.0  1217896556   \n",
              "4       1       50     4.0  1217896523   \n",
              "\n",
              "                                       title                   genres  \n",
              "0                              Casino (1995)              Crime|Drama  \n",
              "1                              Powder (1995)             Drama|Sci-Fi  \n",
              "2  Twelve Monkeys (a.k.a. 12 Monkeys) (1995)  Mystery|Sci-Fi|Thriller  \n",
              "3                Seven (a.k.a. Se7en) (1995)         Mystery|Thriller  \n",
              "4                 Usual Suspects, The (1995)   Crime|Mystery|Thriller  "
            ]
          },
          "execution_count": 14,
          "metadata": {},
          "output_type": "execute_result"
        }
      ],
      "source": [
        "df=pd.merge(ratings,movies, how='left',on='movieId')\n",
        "df.head()"
      ]
    },
    {
      "cell_type": "code",
      "execution_count": null,
      "metadata": {
        "id": "pDL2-75ZXyll",
        "outputId": "f6d1304b-994d-4217-abbd-16c23663beef"
      },
      "outputs": [
        {
          "data": {
            "text/html": [
              "<div>\n",
              "<style scoped>\n",
              "    .dataframe tbody tr th:only-of-type {\n",
              "        vertical-align: middle;\n",
              "    }\n",
              "\n",
              "    .dataframe tbody tr th {\n",
              "        vertical-align: top;\n",
              "    }\n",
              "\n",
              "    .dataframe thead th {\n",
              "        text-align: right;\n",
              "    }\n",
              "</style>\n",
              "<table border=\"1\" class=\"dataframe\">\n",
              "  <thead>\n",
              "    <tr style=\"text-align: right;\">\n",
              "      <th></th>\n",
              "      <th>rating</th>\n",
              "    </tr>\n",
              "    <tr>\n",
              "      <th>title</th>\n",
              "      <th></th>\n",
              "    </tr>\n",
              "  </thead>\n",
              "  <tbody>\n",
              "    <tr>\n",
              "      <th>Shawshank Redemption, The (1994)</th>\n",
              "      <td>1372.0</td>\n",
              "    </tr>\n",
              "    <tr>\n",
              "      <th>Pulp Fiction (1994)</th>\n",
              "      <td>1352.0</td>\n",
              "    </tr>\n",
              "    <tr>\n",
              "      <th>Forrest Gump (1994)</th>\n",
              "      <td>1287.0</td>\n",
              "    </tr>\n",
              "    <tr>\n",
              "      <th>Silence of the Lambs, The (1991)</th>\n",
              "      <td>1216.5</td>\n",
              "    </tr>\n",
              "    <tr>\n",
              "      <th>Star Wars: Episode IV - A New Hope (1977)</th>\n",
              "      <td>1143.5</td>\n",
              "    </tr>\n",
              "  </tbody>\n",
              "</table>\n",
              "</div>"
            ],
            "text/plain": [
              "                                           rating\n",
              "title                                            \n",
              "Shawshank Redemption, The (1994)           1372.0\n",
              "Pulp Fiction (1994)                        1352.0\n",
              "Forrest Gump (1994)                        1287.0\n",
              "Silence of the Lambs, The (1991)           1216.5\n",
              "Star Wars: Episode IV - A New Hope (1977)  1143.5"
            ]
          },
          "execution_count": 15,
          "metadata": {},
          "output_type": "execute_result"
        }
      ],
      "source": [
        "df1=df.groupby(['title'])[['rating']].sum()\n",
        "high_rated=df1.nlargest(20,'rating')\n",
        "high_rated.head()"
      ]
    },
    {
      "cell_type": "code",
      "execution_count": null,
      "metadata": {
        "id": "LQK714EJXyll",
        "outputId": "95008547-1e78-428f-cfad-0c24a6e087e5"
      },
      "outputs": [
        {
          "data": {
            "text/html": [
              "<div>\n",
              "<style scoped>\n",
              "    .dataframe tbody tr th:only-of-type {\n",
              "        vertical-align: middle;\n",
              "    }\n",
              "\n",
              "    .dataframe tbody tr th {\n",
              "        vertical-align: top;\n",
              "    }\n",
              "\n",
              "    .dataframe thead th {\n",
              "        text-align: right;\n",
              "    }\n",
              "</style>\n",
              "<table border=\"1\" class=\"dataframe\">\n",
              "  <thead>\n",
              "    <tr style=\"text-align: right;\">\n",
              "      <th></th>\n",
              "      <th>rating</th>\n",
              "    </tr>\n",
              "    <tr>\n",
              "      <th>title</th>\n",
              "      <th></th>\n",
              "    </tr>\n",
              "  </thead>\n",
              "  <tbody>\n",
              "    <tr>\n",
              "      <th>Pulp Fiction (1994)</th>\n",
              "      <td>325</td>\n",
              "    </tr>\n",
              "    <tr>\n",
              "      <th>Forrest Gump (1994)</th>\n",
              "      <td>311</td>\n",
              "    </tr>\n",
              "    <tr>\n",
              "      <th>Shawshank Redemption, The (1994)</th>\n",
              "      <td>308</td>\n",
              "    </tr>\n",
              "    <tr>\n",
              "      <th>Jurassic Park (1993)</th>\n",
              "      <td>294</td>\n",
              "    </tr>\n",
              "    <tr>\n",
              "      <th>Silence of the Lambs, The (1991)</th>\n",
              "      <td>290</td>\n",
              "    </tr>\n",
              "  </tbody>\n",
              "</table>\n",
              "</div>"
            ],
            "text/plain": [
              "                                  rating\n",
              "title                                   \n",
              "Pulp Fiction (1994)                  325\n",
              "Forrest Gump (1994)                  311\n",
              "Shawshank Redemption, The (1994)     308\n",
              "Jurassic Park (1993)                 294\n",
              "Silence of the Lambs, The (1991)     290"
            ]
          },
          "execution_count": 17,
          "metadata": {},
          "output_type": "execute_result"
        }
      ],
      "source": [
        "df2=df.groupby('title')[['rating']].count()\n",
        "rating_count_20=df2.nlargest(20,'rating')\n",
        "rating_count_20.head()"
      ]
    },
    {
      "cell_type": "code",
      "execution_count": null,
      "metadata": {
        "id": "ollkhMt6Xylm"
      },
      "outputs": [],
      "source": [
        "cv=TfidfVectorizer()\n",
        "tfidf_matrix=cv.fit_transform(movies['genres'])"
      ]
    },
    {
      "cell_type": "code",
      "execution_count": null,
      "metadata": {
        "id": "T23qJ4DmXylm",
        "outputId": "73e84bac-c5c0-48ae-98cd-eeebc76a2296"
      },
      "outputs": [
        {
          "data": {
            "text/html": [
              "<div>\n",
              "<style scoped>\n",
              "    .dataframe tbody tr th:only-of-type {\n",
              "        vertical-align: middle;\n",
              "    }\n",
              "\n",
              "    .dataframe tbody tr th {\n",
              "        vertical-align: top;\n",
              "    }\n",
              "\n",
              "    .dataframe thead th {\n",
              "        text-align: right;\n",
              "    }\n",
              "</style>\n",
              "<table border=\"1\" class=\"dataframe\">\n",
              "  <thead>\n",
              "    <tr style=\"text-align: right;\">\n",
              "      <th>title</th>\n",
              "      <th>'71 (2014)</th>\n",
              "      <th>'Hellboy': The Seeds of Creation (2004)</th>\n",
              "      <th>'Round Midnight (1986)</th>\n",
              "      <th>'Til There Was You (1997)</th>\n",
              "      <th>'burbs, The (1989)</th>\n",
              "      <th>'night Mother (1986)</th>\n",
              "      <th>(500) Days of Summer (2009)</th>\n",
              "      <th>*batteries not included (1987)</th>\n",
              "      <th>...And Justice for All (1979)</th>\n",
              "      <th>10 (1979)</th>\n",
              "      <th>...</th>\n",
              "      <th>[REC] (2007)</th>\n",
              "      <th>[REC]² (2009)</th>\n",
              "      <th>[REC]³ 3 Génesis (2012)</th>\n",
              "      <th>a/k/a Tommy Chong (2005)</th>\n",
              "      <th>eXistenZ (1999)</th>\n",
              "      <th>loudQUIETloud: A Film About the Pixies (2006)</th>\n",
              "      <th>xXx (2002)</th>\n",
              "      <th>xXx: State of the Union (2005)</th>\n",
              "      <th>¡Three Amigos! (1986)</th>\n",
              "      <th>À nous la liberté (Freedom for Us) (1931)</th>\n",
              "    </tr>\n",
              "    <tr>\n",
              "      <th>userId</th>\n",
              "      <th></th>\n",
              "      <th></th>\n",
              "      <th></th>\n",
              "      <th></th>\n",
              "      <th></th>\n",
              "      <th></th>\n",
              "      <th></th>\n",
              "      <th></th>\n",
              "      <th></th>\n",
              "      <th></th>\n",
              "      <th></th>\n",
              "      <th></th>\n",
              "      <th></th>\n",
              "      <th></th>\n",
              "      <th></th>\n",
              "      <th></th>\n",
              "      <th></th>\n",
              "      <th></th>\n",
              "      <th></th>\n",
              "      <th></th>\n",
              "      <th></th>\n",
              "    </tr>\n",
              "  </thead>\n",
              "  <tbody>\n",
              "    <tr>\n",
              "      <th>1</th>\n",
              "      <td>NaN</td>\n",
              "      <td>NaN</td>\n",
              "      <td>NaN</td>\n",
              "      <td>NaN</td>\n",
              "      <td>NaN</td>\n",
              "      <td>NaN</td>\n",
              "      <td>NaN</td>\n",
              "      <td>NaN</td>\n",
              "      <td>NaN</td>\n",
              "      <td>NaN</td>\n",
              "      <td>...</td>\n",
              "      <td>NaN</td>\n",
              "      <td>NaN</td>\n",
              "      <td>NaN</td>\n",
              "      <td>NaN</td>\n",
              "      <td>NaN</td>\n",
              "      <td>NaN</td>\n",
              "      <td>NaN</td>\n",
              "      <td>NaN</td>\n",
              "      <td>NaN</td>\n",
              "      <td>NaN</td>\n",
              "    </tr>\n",
              "    <tr>\n",
              "      <th>2</th>\n",
              "      <td>NaN</td>\n",
              "      <td>NaN</td>\n",
              "      <td>NaN</td>\n",
              "      <td>NaN</td>\n",
              "      <td>NaN</td>\n",
              "      <td>NaN</td>\n",
              "      <td>NaN</td>\n",
              "      <td>NaN</td>\n",
              "      <td>NaN</td>\n",
              "      <td>NaN</td>\n",
              "      <td>...</td>\n",
              "      <td>NaN</td>\n",
              "      <td>NaN</td>\n",
              "      <td>NaN</td>\n",
              "      <td>NaN</td>\n",
              "      <td>NaN</td>\n",
              "      <td>NaN</td>\n",
              "      <td>NaN</td>\n",
              "      <td>NaN</td>\n",
              "      <td>NaN</td>\n",
              "      <td>NaN</td>\n",
              "    </tr>\n",
              "    <tr>\n",
              "      <th>3</th>\n",
              "      <td>NaN</td>\n",
              "      <td>NaN</td>\n",
              "      <td>NaN</td>\n",
              "      <td>NaN</td>\n",
              "      <td>NaN</td>\n",
              "      <td>NaN</td>\n",
              "      <td>NaN</td>\n",
              "      <td>NaN</td>\n",
              "      <td>NaN</td>\n",
              "      <td>NaN</td>\n",
              "      <td>...</td>\n",
              "      <td>NaN</td>\n",
              "      <td>NaN</td>\n",
              "      <td>NaN</td>\n",
              "      <td>NaN</td>\n",
              "      <td>NaN</td>\n",
              "      <td>NaN</td>\n",
              "      <td>NaN</td>\n",
              "      <td>NaN</td>\n",
              "      <td>NaN</td>\n",
              "      <td>NaN</td>\n",
              "    </tr>\n",
              "    <tr>\n",
              "      <th>4</th>\n",
              "      <td>NaN</td>\n",
              "      <td>NaN</td>\n",
              "      <td>NaN</td>\n",
              "      <td>NaN</td>\n",
              "      <td>NaN</td>\n",
              "      <td>NaN</td>\n",
              "      <td>NaN</td>\n",
              "      <td>NaN</td>\n",
              "      <td>NaN</td>\n",
              "      <td>NaN</td>\n",
              "      <td>...</td>\n",
              "      <td>NaN</td>\n",
              "      <td>NaN</td>\n",
              "      <td>NaN</td>\n",
              "      <td>NaN</td>\n",
              "      <td>NaN</td>\n",
              "      <td>NaN</td>\n",
              "      <td>NaN</td>\n",
              "      <td>NaN</td>\n",
              "      <td>NaN</td>\n",
              "      <td>NaN</td>\n",
              "    </tr>\n",
              "    <tr>\n",
              "      <th>5</th>\n",
              "      <td>NaN</td>\n",
              "      <td>NaN</td>\n",
              "      <td>NaN</td>\n",
              "      <td>NaN</td>\n",
              "      <td>NaN</td>\n",
              "      <td>NaN</td>\n",
              "      <td>NaN</td>\n",
              "      <td>NaN</td>\n",
              "      <td>NaN</td>\n",
              "      <td>NaN</td>\n",
              "      <td>...</td>\n",
              "      <td>NaN</td>\n",
              "      <td>NaN</td>\n",
              "      <td>NaN</td>\n",
              "      <td>NaN</td>\n",
              "      <td>NaN</td>\n",
              "      <td>NaN</td>\n",
              "      <td>NaN</td>\n",
              "      <td>NaN</td>\n",
              "      <td>NaN</td>\n",
              "      <td>NaN</td>\n",
              "    </tr>\n",
              "  </tbody>\n",
              "</table>\n",
              "<p>5 rows × 10323 columns</p>\n",
              "</div>"
            ],
            "text/plain": [
              "title   '71 (2014)  'Hellboy': The Seeds of Creation (2004)  \\\n",
              "userId                                                        \n",
              "1              NaN                                      NaN   \n",
              "2              NaN                                      NaN   \n",
              "3              NaN                                      NaN   \n",
              "4              NaN                                      NaN   \n",
              "5              NaN                                      NaN   \n",
              "\n",
              "title   'Round Midnight (1986)  'Til There Was You (1997)  'burbs, The (1989)  \\\n",
              "userId                                                                          \n",
              "1                          NaN                        NaN                 NaN   \n",
              "2                          NaN                        NaN                 NaN   \n",
              "3                          NaN                        NaN                 NaN   \n",
              "4                          NaN                        NaN                 NaN   \n",
              "5                          NaN                        NaN                 NaN   \n",
              "\n",
              "title   'night Mother (1986)  (500) Days of Summer (2009)  \\\n",
              "userId                                                      \n",
              "1                        NaN                          NaN   \n",
              "2                        NaN                          NaN   \n",
              "3                        NaN                          NaN   \n",
              "4                        NaN                          NaN   \n",
              "5                        NaN                          NaN   \n",
              "\n",
              "title   *batteries not included (1987)  ...And Justice for All (1979)  \\\n",
              "userId                                                                  \n",
              "1                                  NaN                            NaN   \n",
              "2                                  NaN                            NaN   \n",
              "3                                  NaN                            NaN   \n",
              "4                                  NaN                            NaN   \n",
              "5                                  NaN                            NaN   \n",
              "\n",
              "title   10 (1979)  ...  [REC] (2007)  [REC]² (2009)  [REC]³ 3 Génesis (2012)  \\\n",
              "userId             ...                                                         \n",
              "1             NaN  ...           NaN            NaN                      NaN   \n",
              "2             NaN  ...           NaN            NaN                      NaN   \n",
              "3             NaN  ...           NaN            NaN                      NaN   \n",
              "4             NaN  ...           NaN            NaN                      NaN   \n",
              "5             NaN  ...           NaN            NaN                      NaN   \n",
              "\n",
              "title   a/k/a Tommy Chong (2005)  eXistenZ (1999)  \\\n",
              "userId                                              \n",
              "1                            NaN              NaN   \n",
              "2                            NaN              NaN   \n",
              "3                            NaN              NaN   \n",
              "4                            NaN              NaN   \n",
              "5                            NaN              NaN   \n",
              "\n",
              "title   loudQUIETloud: A Film About the Pixies (2006)  xXx (2002)  \\\n",
              "userId                                                              \n",
              "1                                                 NaN         NaN   \n",
              "2                                                 NaN         NaN   \n",
              "3                                                 NaN         NaN   \n",
              "4                                                 NaN         NaN   \n",
              "5                                                 NaN         NaN   \n",
              "\n",
              "title   xXx: State of the Union (2005)  ¡Three Amigos! (1986)  \\\n",
              "userId                                                          \n",
              "1                                  NaN                    NaN   \n",
              "2                                  NaN                    NaN   \n",
              "3                                  NaN                    NaN   \n",
              "4                                  NaN                    NaN   \n",
              "5                                  NaN                    NaN   \n",
              "\n",
              "title   À nous la liberté (Freedom for Us) (1931)  \n",
              "userId                                             \n",
              "1                                             NaN  \n",
              "2                                             NaN  \n",
              "3                                             NaN  \n",
              "4                                             NaN  \n",
              "5                                             NaN  \n",
              "\n",
              "[5 rows x 10323 columns]"
            ]
          },
          "execution_count": 20,
          "metadata": {},
          "output_type": "execute_result"
        }
      ],
      "source": [
        "movie_user = df.pivot_table(index='userId',columns='title',values='rating')\n",
        "movie_user.head()"
      ]
    },
    {
      "cell_type": "code",
      "execution_count": null,
      "metadata": {
        "id": "P9su3om6Xylm"
      },
      "outputs": [],
      "source": [
        "\n",
        "cosine_sim = linear_kernel(tfidf_matrix, tfidf_matrix)"
      ]
    },
    {
      "cell_type": "code",
      "execution_count": null,
      "metadata": {
        "id": "DOGgFk1hXylm"
      },
      "outputs": [],
      "source": [
        "indices=pd.Series(movies.index,index=movies['title'])\n",
        "titles=movies['title']\n",
        "def recommendations(title):\n",
        "    idx = indices[title]\n",
        "    sim_scores = list(enumerate(cosine_sim[idx]))\n",
        "    sim_scores = sorted(sim_scores, key=lambda x: x[1], reverse=True)\n",
        "    sim_scores = sim_scores[1:6]\n",
        "    movie_indices = [i[0] for i in sim_scores]\n",
        "    return titles.iloc[movie_indices]"
      ]
    },
    {
      "cell_type": "code",
      "execution_count": null,
      "metadata": {
        "id": "4Cg65P-XXylm",
        "outputId": "e0422942-1aac-40c0-9a35-30835ab6e843"
      },
      "outputs": [
        {
          "data": {
            "text/plain": [
              "1838           Life Is Beautiful (La Vita è bella) (1997)\n",
              "2399                  Train of Life (Train de vie) (1998)\n",
              "4504          Divine Intervention (Yadon ilaheyya) (2002)\n",
              "7554    I Served the King of England (Obsluhoval jsem ...\n",
              "5243                              Kiss Them for Me (1957)\n",
              "Name: title, dtype: object"
            ]
          },
          "execution_count": 26,
          "metadata": {},
          "output_type": "execute_result"
        }
      ],
      "source": [
        "recommendations('Forrest Gump (1994)')"
      ]
    },
    {
      "cell_type": "code",
      "execution_count": null,
      "metadata": {
        "id": "BEBbgJbAXyln"
      },
      "outputs": [],
      "source": []
    }
  ],
  "metadata": {
    "kernelspec": {
      "display_name": "Python 3 (ipykernel)",
      "language": "python",
      "name": "python3"
    },
    "language_info": {
      "codemirror_mode": {
        "name": "ipython",
        "version": 3
      },
      "file_extension": ".py",
      "mimetype": "text/x-python",
      "name": "python",
      "nbconvert_exporter": "python",
      "pygments_lexer": "ipython3",
      "version": "3.9.13"
    },
    "colab": {
      "provenance": [],
      "include_colab_link": true
    }
  },
  "nbformat": 4,
  "nbformat_minor": 0
}